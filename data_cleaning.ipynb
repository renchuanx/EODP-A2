{
    "cells": [
        {
            "cell_type": "code",
            "execution_count": 50,
            "metadata": {},
            "outputs": [],
            "source": [
                "import pandas as pd\n",
                "import numpy as np\n",
                "import re"
            ]
        },
        {
            "attachments": {},
            "cell_type": "markdown",
            "metadata": {},
            "source": [
                "# preprocessing Houses-by-suburb file \n"
            ]
        },
        {
            "cell_type": "code",
            "execution_count": 51,
            "metadata": {},
            "outputs": [
                {
                    "data": {
                        "text/html": [
                            "<div>\n",
                            "<style scoped>\n",
                            "    .dataframe tbody tr th:only-of-type {\n",
                            "        vertical-align: middle;\n",
                            "    }\n",
                            "\n",
                            "    .dataframe tbody tr th {\n",
                            "        vertical-align: top;\n",
                            "    }\n",
                            "\n",
                            "    .dataframe thead th {\n",
                            "        text-align: right;\n",
                            "    }\n",
                            "</style>\n",
                            "<table border=\"1\" class=\"dataframe\">\n",
                            "  <thead>\n",
                            "    <tr style=\"text-align: right;\">\n",
                            "      <th></th>\n",
                            "      <th>Locality</th>\n",
                            "      <th>2013</th>\n",
                            "      <th>2014</th>\n",
                            "      <th>2015</th>\n",
                            "      <th>2016</th>\n",
                            "      <th>2017</th>\n",
                            "      <th>2018</th>\n",
                            "      <th>2019</th>\n",
                            "      <th>2020</th>\n",
                            "      <th>2021</th>\n",
                            "      <th>2022</th>\n",
                            "      <th>2023</th>\n",
                            "      <th>Change Percentage  13-23</th>\n",
                            "    </tr>\n",
                            "  </thead>\n",
                            "  <tbody>\n",
                            "    <tr>\n",
                            "      <th>0</th>\n",
                            "      <td>ABBOTSFORD</td>\n",
                            "      <td>792500</td>\n",
                            "      <td>862500</td>\n",
                            "      <td>925000</td>\n",
                            "      <td>1187500</td>\n",
                            "      <td>1280000</td>\n",
                            "      <td>1192500</td>\n",
                            "      <td>1050000</td>\n",
                            "      <td>1200000</td>\n",
                            "      <td>1365000</td>\n",
                            "      <td>1346000</td>\n",
                            "      <td>1250000</td>\n",
                            "      <td>58.0</td>\n",
                            "    </tr>\n",
                            "    <tr>\n",
                            "      <th>1</th>\n",
                            "      <td>ABERFELDIE</td>\n",
                            "      <td>947500</td>\n",
                            "      <td>1045000</td>\n",
                            "      <td>1207500</td>\n",
                            "      <td>1300000</td>\n",
                            "      <td>1471000</td>\n",
                            "      <td>1498500</td>\n",
                            "      <td>1390000</td>\n",
                            "      <td>1520000</td>\n",
                            "      <td>1858000</td>\n",
                            "      <td>1900000</td>\n",
                            "      <td>1631000</td>\n",
                            "      <td>72.0</td>\n",
                            "    </tr>\n",
                            "    <tr>\n",
                            "      <th>2</th>\n",
                            "      <td>AINTREE</td>\n",
                            "      <td>-</td>\n",
                            "      <td>-</td>\n",
                            "      <td>600000</td>\n",
                            "      <td>600000</td>\n",
                            "      <td>571000</td>\n",
                            "      <td>557500</td>\n",
                            "      <td>575000</td>\n",
                            "      <td>616000</td>\n",
                            "      <td>713500</td>\n",
                            "      <td>756000</td>\n",
                            "      <td>748000</td>\n",
                            "      <td>NaN</td>\n",
                            "    </tr>\n",
                            "    <tr>\n",
                            "      <th>3</th>\n",
                            "      <td>AIREYS INLET</td>\n",
                            "      <td>664000</td>\n",
                            "      <td>625500</td>\n",
                            "      <td>680000</td>\n",
                            "      <td>715000</td>\n",
                            "      <td>737500</td>\n",
                            "      <td>869000</td>\n",
                            "      <td>985000</td>\n",
                            "      <td>1132500</td>\n",
                            "      <td>1775000</td>\n",
                            "      <td>1725000</td>\n",
                            "      <td>1675000</td>\n",
                            "      <td>152.0</td>\n",
                            "    </tr>\n",
                            "    <tr>\n",
                            "      <th>4</th>\n",
                            "      <td>AIRPORT WEST</td>\n",
                            "      <td>532000</td>\n",
                            "      <td>575000</td>\n",
                            "      <td>635000</td>\n",
                            "      <td>742000</td>\n",
                            "      <td>845000</td>\n",
                            "      <td>845000</td>\n",
                            "      <td>795000</td>\n",
                            "      <td>812500</td>\n",
                            "      <td>960000</td>\n",
                            "      <td>911000</td>\n",
                            "      <td>945000</td>\n",
                            "      <td>78.0</td>\n",
                            "    </tr>\n",
                            "    <tr>\n",
                            "      <th>...</th>\n",
                            "      <td>...</td>\n",
                            "      <td>...</td>\n",
                            "      <td>...</td>\n",
                            "      <td>...</td>\n",
                            "      <td>...</td>\n",
                            "      <td>...</td>\n",
                            "      <td>...</td>\n",
                            "      <td>...</td>\n",
                            "      <td>...</td>\n",
                            "      <td>...</td>\n",
                            "      <td>...</td>\n",
                            "      <td>...</td>\n",
                            "      <td>...</td>\n",
                            "    </tr>\n",
                            "    <tr>\n",
                            "      <th>782</th>\n",
                            "      <td>YARRAM</td>\n",
                            "      <td>190000</td>\n",
                            "      <td>202500</td>\n",
                            "      <td>245000</td>\n",
                            "      <td>230000</td>\n",
                            "      <td>225000</td>\n",
                            "      <td>218000</td>\n",
                            "      <td>240000</td>\n",
                            "      <td>260000</td>\n",
                            "      <td>360000</td>\n",
                            "      <td>470000</td>\n",
                            "      <td>395000</td>\n",
                            "      <td>108.0</td>\n",
                            "    </tr>\n",
                            "    <tr>\n",
                            "      <th>783</th>\n",
                            "      <td>YARRAVILLE</td>\n",
                            "      <td>696000</td>\n",
                            "      <td>710000</td>\n",
                            "      <td>810000</td>\n",
                            "      <td>900500</td>\n",
                            "      <td>1000000</td>\n",
                            "      <td>1045000</td>\n",
                            "      <td>971000</td>\n",
                            "      <td>1030000</td>\n",
                            "      <td>1185000</td>\n",
                            "      <td>1210000</td>\n",
                            "      <td>1100000</td>\n",
                            "      <td>58.0</td>\n",
                            "    </tr>\n",
                            "    <tr>\n",
                            "      <th>784</th>\n",
                            "      <td>YARRAWONGA</td>\n",
                            "      <td>302500</td>\n",
                            "      <td>297000</td>\n",
                            "      <td>300500</td>\n",
                            "      <td>320000</td>\n",
                            "      <td>324500</td>\n",
                            "      <td>345000</td>\n",
                            "      <td>375000</td>\n",
                            "      <td>456500</td>\n",
                            "      <td>564500</td>\n",
                            "      <td>670000</td>\n",
                            "      <td>640000</td>\n",
                            "      <td>112.0</td>\n",
                            "    </tr>\n",
                            "    <tr>\n",
                            "      <th>785</th>\n",
                            "      <td>YEA</td>\n",
                            "      <td>260000</td>\n",
                            "      <td>255000</td>\n",
                            "      <td>260000</td>\n",
                            "      <td>305000</td>\n",
                            "      <td>385000</td>\n",
                            "      <td>390000</td>\n",
                            "      <td>435500</td>\n",
                            "      <td>422500</td>\n",
                            "      <td>570000</td>\n",
                            "      <td>617500</td>\n",
                            "      <td>550000</td>\n",
                            "      <td>112.0</td>\n",
                            "    </tr>\n",
                            "    <tr>\n",
                            "      <th>786</th>\n",
                            "      <td>YINNAR</td>\n",
                            "      <td>220000</td>\n",
                            "      <td>240000</td>\n",
                            "      <td>182500</td>\n",
                            "      <td>230000</td>\n",
                            "      <td>270000</td>\n",
                            "      <td>245000</td>\n",
                            "      <td>255000</td>\n",
                            "      <td>292500</td>\n",
                            "      <td>465000</td>\n",
                            "      <td>550500</td>\n",
                            "      <td>567500</td>\n",
                            "      <td>158.0</td>\n",
                            "    </tr>\n",
                            "  </tbody>\n",
                            "</table>\n",
                            "<p>787 rows × 13 columns</p>\n",
                            "</div>"
                        ],
                        "text/plain": [
                            "         Locality    2013     2014     2015     2016     2017     2018  \\\n",
                            "0      ABBOTSFORD  792500   862500   925000  1187500  1280000  1192500   \n",
                            "1      ABERFELDIE  947500  1045000  1207500  1300000  1471000  1498500   \n",
                            "2         AINTREE       -        -   600000   600000   571000   557500   \n",
                            "3    AIREYS INLET  664000   625500   680000   715000   737500   869000   \n",
                            "4    AIRPORT WEST  532000   575000   635000   742000   845000   845000   \n",
                            "..            ...     ...      ...      ...      ...      ...      ...   \n",
                            "782        YARRAM  190000   202500   245000   230000   225000   218000   \n",
                            "783    YARRAVILLE  696000   710000   810000   900500  1000000  1045000   \n",
                            "784    YARRAWONGA  302500   297000   300500   320000   324500   345000   \n",
                            "785           YEA  260000   255000   260000   305000   385000   390000   \n",
                            "786        YINNAR  220000   240000   182500   230000   270000   245000   \n",
                            "\n",
                            "        2019     2020     2021     2022     2023  Change Percentage  13-23  \n",
                            "0    1050000  1200000  1365000  1346000  1250000                      58.0  \n",
                            "1    1390000  1520000  1858000  1900000  1631000                      72.0  \n",
                            "2     575000   616000   713500   756000   748000                       NaN  \n",
                            "3     985000  1132500  1775000  1725000  1675000                     152.0  \n",
                            "4     795000   812500   960000   911000   945000                      78.0  \n",
                            "..       ...      ...      ...      ...      ...                       ...  \n",
                            "782   240000   260000   360000   470000   395000                     108.0  \n",
                            "783   971000  1030000  1185000  1210000  1100000                      58.0  \n",
                            "784   375000   456500   564500   670000   640000                     112.0  \n",
                            "785   435500   422500   570000   617500   550000                     112.0  \n",
                            "786   255000   292500   465000   550500   567500                     158.0  \n",
                            "\n",
                            "[787 rows x 13 columns]"
                        ]
                    },
                    "execution_count": 51,
                    "metadata": {},
                    "output_type": "execute_result"
                }
            ],
            "source": [
                "# Load dataset\n",
                "median_house_prices = pd.read_csv('Houses-by-suburb.csv')\n",
                "\n",
                "median_house_prices\n",
                "\n"
            ]
        },
        {
            "attachments": {},
            "cell_type": "markdown",
            "metadata": {},
            "source": [
                "## Check for duplicates and missing values"
            ]
        },
        {
            "cell_type": "code",
            "execution_count": 52,
            "metadata": {},
            "outputs": [
                {
                    "name": "stdout",
                    "output_type": "stream",
                    "text": [
                        "duplicate_counts:0\n",
                        "\n",
                        "missing_data_counts:\n",
                        "Locality                    0\n",
                        "2013                        0\n",
                        "2014                        0\n",
                        "2015                        0\n",
                        "2016                        0\n",
                        "2017                        0\n",
                        "2018                        0\n",
                        "2019                        0\n",
                        "2020                        0\n",
                        "2021                        0\n",
                        "2022                        0\n",
                        "2023                        0\n",
                        "Change Percentage  13-23    8\n",
                        "dtype: int64\n"
                    ]
                }
            ],
            "source": [
                "# check the duplicated base on Locality\n",
                "duplicate_counts = median_house_prices.duplicated(subset='Locality').sum()\n",
                "print(f\"duplicate_counts:{duplicate_counts}\\n\")\n",
                "\n",
                "# find any missing values in dataset\n",
                "missing_data_counts = median_house_prices.isnull().sum()\n",
                "print(f\"missing_data_counts:\\n{missing_data_counts}\")\n"
            ]
        },
        {
            "attachments": {},
            "cell_type": "markdown",
            "metadata": {},
            "source": [
                "## Handle missing values (e.g. \"-\", \"NA\")\n",
                "\n",
                " using Regular Expressions to normalize\n",
                "\n"
            ]
        },
        {
            "cell_type": "code",
            "execution_count": 53,
            "metadata": {},
            "outputs": [],
            "source": [
                "# Using regular expressions, standardize the data that should appear in each column.\n",
                "patterns = {\n",
                "    'Locality': r'[A-Z\\s]+',  # Capital letters and Spaces only, used to match place names\n",
                "    '2013': r'\\d{1,7}',  # One to seven digits\n",
                "    '2014': r'\\d{1,7}',\n",
                "    '2015': r'\\d{1,7}',\n",
                "    '2016': r'\\d{1,7}',\n",
                "    '2017': r'\\d{1,7}',\n",
                "    '2018': r'\\d{1,7}',\n",
                "    '2019': r'\\d{1,7}',\n",
                "    '2020': r'\\d{1,7}',\n",
                "    '2021': r'\\d{1,7}',\n",
                "    '2022': r'\\d{1,7}',\n",
                "    '2023': r'\\d{1,7}',\n",
                "    'Change Percentage  13-23': r'-?\\d{1,3}'   # One to three digits\n",
                "}\n",
                "\n",
                "# Initialize the Boolean marked, default to True (all lines are preserved)\n",
                "marked = pd.Series([True] * len(median_house_prices))\n",
                "\n",
                "# Traverse each column for a Regex\n",
                "for column, pattern in patterns.items():\n",
                "    marked = marked & median_house_prices[column].apply(lambda x: bool(re.match(pattern, str(x))))\n",
                "\n",
                "# Keep the matching rows\n",
                "cleaned_median_house_prices = median_house_prices[marked]\n"
            ]
        },
        {
            "attachments": {},
            "cell_type": "markdown",
            "metadata": {},
            "source": [
                "## Save the cleaned house prices data"
            ]
        },
        {
            "cell_type": "code",
            "execution_count": 54,
            "metadata": {},
            "outputs": [
                {
                    "name": "stdout",
                    "output_type": "stream",
                    "text": [
                        " House prices cleaning complete. Cleaned data saved to 'cleaned_median_house_prices.csv'.\n"
                    ]
                }
            ],
            "source": [
                "# Save the cleaned data\n",
                "cleaned_median_house_prices.to_csv('cleaned_median_house_prices.csv', index=False)\n",
                "\n",
                "print(\" House prices cleaning complete. Cleaned data saved to 'cleaned_median_house_prices.csv'.\")"
            ]
        },
        {
            "attachments": {},
            "cell_type": "markdown",
            "metadata": {},
            "source": [
                "### Double-checked, and this also adjusts the price data to integer for."
            ]
        },
        {
            "cell_type": "code",
            "execution_count": 55,
            "metadata": {},
            "outputs": [
                {
                    "name": "stdout",
                    "output_type": "stream",
                    "text": [
                        "<class 'pandas.core.frame.DataFrame'>\n",
                        "RangeIndex: 775 entries, 0 to 774\n",
                        "Data columns (total 13 columns):\n",
                        " #   Column                    Non-Null Count  Dtype  \n",
                        "---  ------                    --------------  -----  \n",
                        " 0   Locality                  775 non-null    object \n",
                        " 1   2013                      775 non-null    int64  \n",
                        " 2   2014                      775 non-null    int64  \n",
                        " 3   2015                      775 non-null    int64  \n",
                        " 4   2016                      775 non-null    int64  \n",
                        " 5   2017                      775 non-null    int64  \n",
                        " 6   2018                      775 non-null    int64  \n",
                        " 7   2019                      775 non-null    int64  \n",
                        " 8   2020                      775 non-null    int64  \n",
                        " 9   2021                      775 non-null    int64  \n",
                        " 10  2022                      775 non-null    int64  \n",
                        " 11  2023                      775 non-null    int64  \n",
                        " 12  Change Percentage  13-23  775 non-null    float64\n",
                        "dtypes: float64(1), int64(11), object(1)\n",
                        "memory usage: 78.8+ KB\n",
                        "missing_data_counts:\n",
                        "Locality                    0\n",
                        "2013                        0\n",
                        "2014                        0\n",
                        "2015                        0\n",
                        "2016                        0\n",
                        "2017                        0\n",
                        "2018                        0\n",
                        "2019                        0\n",
                        "2020                        0\n",
                        "2021                        0\n",
                        "2022                        0\n",
                        "2023                        0\n",
                        "Change Percentage  13-23    0\n",
                        "dtype: int64\n"
                    ]
                }
            ],
            "source": [
                "median_house_prices_2 = pd.read_csv('cleaned_median_house_prices.csv')\n",
                "median_house_prices_2.info()\n",
                "\n",
                "# find any missing values in dataset\n",
                "missing_data_counts_2 = median_house_prices_2.isnull().sum()\n",
                "print(f\"missing_data_counts:\\n{missing_data_counts_2}\")"
            ]
        },
        {
            "attachments": {},
            "cell_type": "markdown",
            "metadata": {},
            "source": [
                "# preprocessing LGA Offences file \n"
            ]
        },
        {
            "cell_type": "code",
            "execution_count": 56,
            "metadata": {},
            "outputs": [
                {
                    "name": "stdout",
                    "output_type": "stream",
                    "text": [
                        "<class 'pandas.core.frame.DataFrame'>\n",
                        "RangeIndex: 361967 entries, 0 to 361966\n",
                        "Data columns (total 9 columns):\n",
                        " #   Column                 Non-Null Count   Dtype \n",
                        "---  ------                 --------------   ----- \n",
                        " 0   Year                   361967 non-null  int64 \n",
                        " 1   Year ending            361967 non-null  object\n",
                        " 2   Local Government Area  361967 non-null  object\n",
                        " 3   Postcode               361967 non-null  int64 \n",
                        " 4   Suburb/Town Name       361967 non-null  object\n",
                        " 5   Offence Division       361967 non-null  object\n",
                        " 6   Offence Subdivision    361967 non-null  object\n",
                        " 7   Offence Subgroup       361967 non-null  object\n",
                        " 8   Offence Count          361967 non-null  int64 \n",
                        "dtypes: int64(3), object(6)\n",
                        "memory usage: 24.9+ MB\n",
                        "<class 'pandas.core.frame.DataFrame'>\n",
                        "RangeIndex: 870 entries, 0 to 869\n",
                        "Data columns (total 6 columns):\n",
                        " #   Column                       Non-Null Count  Dtype  \n",
                        "---  ------                       --------------  -----  \n",
                        " 0   Year                         870 non-null    int64  \n",
                        " 1   Year ending                  870 non-null    object \n",
                        " 2   Police Region                870 non-null    object \n",
                        " 3   Local Government Area        870 non-null    object \n",
                        " 4   Offence Count                870 non-null    int64  \n",
                        " 5   Rate per 100,000 population  830 non-null    float64\n",
                        "dtypes: float64(1), int64(2), object(3)\n",
                        "memory usage: 40.9+ KB\n"
                    ]
                }
            ],
            "source": [
                "offences03 = pd.read_excel('LGA Offences.xlsx', sheet_name='Table 03')\n",
                "offences01 = pd.read_excel('LGA Offences.xlsx', sheet_name='Table 01')\n",
                "offences03.info()\n",
                "offences01.info()"
            ]
        },
        {
            "cell_type": "code",
            "execution_count": 57,
            "metadata": {},
            "outputs": [
                {
                    "name": "stdout",
                    "output_type": "stream",
                    "text": [
                        "<class 'pandas.core.frame.DataFrame'>\n",
                        "RangeIndex: 361967 entries, 0 to 361966\n",
                        "Data columns (total 9 columns):\n",
                        " #   Column                 Non-Null Count   Dtype \n",
                        "---  ------                 --------------   ----- \n",
                        " 0   Year                   361967 non-null  int64 \n",
                        " 1   Year ending            361967 non-null  object\n",
                        " 2   Local Government Area  361967 non-null  object\n",
                        " 3   Postcode               361967 non-null  int64 \n",
                        " 4   Suburb/Town Name       361967 non-null  object\n",
                        " 5   Offence Division       361967 non-null  object\n",
                        " 6   Offence Subdivision    361967 non-null  object\n",
                        " 7   Offence Subgroup       361967 non-null  object\n",
                        " 8   Offence Count          361967 non-null  int64 \n",
                        "dtypes: int64(3), object(6)\n",
                        "memory usage: 24.9+ MB\n",
                        "<class 'pandas.core.frame.DataFrame'>\n",
                        "Index: 830 entries, 0 to 865\n",
                        "Data columns (total 6 columns):\n",
                        " #   Column                       Non-Null Count  Dtype  \n",
                        "---  ------                       --------------  -----  \n",
                        " 0   Year                         830 non-null    int64  \n",
                        " 1   Year ending                  830 non-null    object \n",
                        " 2   Police Region                830 non-null    object \n",
                        " 3   Local Government Area        830 non-null    object \n",
                        " 4   Offence Count                830 non-null    int64  \n",
                        " 5   Rate per 100,000 population  830 non-null    float64\n",
                        "dtypes: float64(1), int64(2), object(3)\n",
                        "memory usage: 45.4+ KB\n"
                    ]
                }
            ],
            "source": [
                "# Using regular expressions, standardize the data that should appear in each column.\n",
                "patterns03 = {\n",
                "    'Year':r'(?:2014|2015|2016|2017|2018|2019|2020|2021|2022|2023)',  # Matches four digit years\n",
                "    'Year ending': r'December', # only one end month\n",
                "    'Local Government Area': r'[A-Za-z\\s]+',  # Contains only letters and Spaces\n",
                "    'Postcode':r'\\d{4}',  # Four digit zip code\n",
                "    'Suburb/Town Name':r'[A-Za-z\\s]+',  # Place names contain only letters and Spaces\n",
                "    'Offence Division':r'[A-Z]\\s[A-Za-z\\s]+',\n",
                "    'Offence Subdivision': r'[A-Za-z\\s]+',\n",
                "    'Offence Subgroup':r'[A-Za-z\\s]+',\n",
                "    'Offence Count': r'\\d+'  # A number\n",
                "}\n",
                "\n",
                "\n",
                "marked = pd.Series([True] * len(offences03))\n",
                "\n",
                "for column, pattern in patterns03.items():\n",
                "    marked = marked & offences03[column].apply(lambda x: bool(re.match(pattern, str(x))))\n",
                "\n",
                "cleaned_offences = offences03[marked]\n",
                "\n",
                "cleaned_offences.info()\n",
                "\n",
                "\n",
                "patterns01 = {\n",
                "    'Year':r'(?:2014|2015|2016|2017|2018|2019|2020|2021|2022|2023)',  # Matches four digit years\n",
                "    'Year ending':r'December', # only one end month\n",
                "    'Police Region':r'\\d\\s[A-Za-z\\s]+',\n",
                "    'Local Government Area':r'[A-Za-z\\s]+',  \n",
                "    'Offence Count':r'\\d+',  # A number\n",
                "    'Rate per 100,000 population': r'\\d+\\.\\d{1}' # A number with one decimal place\n",
                "}\n",
                "\n",
                "marked01 = pd.Series([True] * len(offences01))\n",
                "\n",
                "for column, pattern in patterns01.items():\n",
                "    marked01 = marked01 & offences01[column].apply(lambda x: bool(re.match(pattern, str(x))))\n",
                "\n",
                "cleaned_offences01 = offences01[marked01]\n",
                "cleaned_offences01 = cleaned_offences01.copy()\n",
                "# Keep the 'Rate per 100,000 population' column one decimal place\n",
                "cleaned_offences01['Rate per 100,000 population'] = cleaned_offences01['Rate per 100,000 population'].round(1)\n",
                "\n",
                "\n",
                "cleaned_offences01.info()"
            ]
        },
        {
            "cell_type": "markdown",
            "metadata": {},
            "source": [
                "## save the cleaned offences data"
            ]
        },
        {
            "cell_type": "code",
            "execution_count": 58,
            "metadata": {},
            "outputs": [],
            "source": [
                "cleaned_offences.to_csv('cleaned_offences.csv', index=False)\n",
                "cleaned_offences01.to_csv('cleaned_offences_by_police_region.csv',index=False)"
            ]
        },
        {
            "attachments": {},
            "cell_type": "markdown",
            "metadata": {},
            "source": [
                "# join LGA Offences file with house-by-suburb file"
            ]
        },
        {
            "cell_type": "markdown",
            "metadata": {},
            "source": [
                "## 1: mach the same name of Locality and Suburb/Town Name"
            ]
        },
        {
            "cell_type": "code",
            "execution_count": 59,
            "metadata": {},
            "outputs": [],
            "source": [
                "# Load the two data sets again\n",
                "cleaned_median_house_prices = pd.read_csv('cleaned_median_house_prices.csv')\n",
                "cleaned_offences = pd.read_csv('cleaned_offences.csv')\n",
                "\n",
                "# Convert the Locality column and Suburb/Town Name column to uppercase for a consistent match.\n",
                "cleaned_median_house_prices['Locality'] = cleaned_median_house_prices['Locality'].str.upper()\n",
                "cleaned_offences['Suburb/Town Name'] = cleaned_offences['Suburb/Town Name'].str.upper()\n",
                "\n",
                "# The inner join keeps only the rows that match\n",
                "inner_merged_data = pd.merge(\n",
                "    cleaned_median_house_prices,\n",
                "    cleaned_offences,\n",
                "    left_on='Locality',\n",
                "    right_on='Suburb/Town Name',\n",
                "    how='inner'  \n",
                ")\n",
                "\n",
                "matched_median_house_prices = cleaned_median_house_prices[\n",
                "    cleaned_median_house_prices['Locality'].isin(inner_merged_data['Locality'])\n",
                "]\n",
                "\n",
                "matched_offences = cleaned_offences[\n",
                "    cleaned_offences['Suburb/Town Name'].isin(inner_merged_data['Suburb/Town Name'])\n",
                "]"
            ]
        },
        {
            "cell_type": "markdown",
            "metadata": {},
            "source": [
                "### 2: Adds a column of 'House Price' to matched_offences and matches the house price data in matched_median_house_prices by year and location. Save in a new csv file called \"matched_offences_with_house_price.csv\""
            ]
        },
        {
            "cell_type": "code",
            "execution_count": 60,
            "metadata": {},
            "outputs": [],
            "source": [
                "matched_offences_with_house_price = matched_offences.copy()\n",
                "matched_offences_with_house_price['House Price'] = None\n",
                "\n",
                "for index, row in matched_offences_with_house_price.iterrows():\n",
                "    # Gets the year and Suburb/Town Name from matched_offences\n",
                "    year = str(row['Year'])  # Make sure the year is a string\n",
                "    suburb_name = row['Suburb/Town Name']\n",
                "\n",
                "    # Check matched_median_house_prices for a corresponding Locality and year column\n",
                "    if year in matched_median_house_prices.columns:\n",
                "        # Find a matching row\n",
                "        matched_house_price_row = matched_median_house_prices[\n",
                "            matched_median_house_prices['Locality'] == suburb_name\n",
                "        ]\n",
                "\n",
                "        # If the corresponding row is found and the year column for that row is not empty\n",
                "        if not matched_house_price_row.empty:\n",
                "            # Get the house price for that year and fill in the House Price column for matched_offences\n",
                "            house_price = matched_house_price_row[year].values[0]\n",
                "            matched_offences_with_house_price.at[index, 'House Price'] = house_price"
            ]
        },
        {
            "cell_type": "markdown",
            "metadata": {},
            "source": [
                "### 3: Save matched_offences_with_house_price\n",
                "This data mach matched_offences with the house price in correct year and local name"
            ]
        },
        {
            "cell_type": "code",
            "execution_count": 61,
            "metadata": {},
            "outputs": [],
            "source": [
                "matched_offences_with_house_price.to_csv('matched_offences_with_house_price.csv', index=False)"
            ]
        },
        {
            "cell_type": "markdown",
            "metadata": {},
            "source": [
                "# Classified matched_offences_with_house_price in different size of region"
            ]
        },
        {
            "cell_type": "markdown",
            "metadata": {},
            "source": [
                "### 1: group by Suburb/Town Name and LGA and ensure that data from 2014 to 2023 exists in each region"
            ]
        },
        {
            "cell_type": "code",
            "execution_count": 62,
            "metadata": {},
            "outputs": [],
            "source": [
                "required_data=matched_offences_with_house_price[['Suburb/Town Name', 'Year', 'Local Government Area', 'House Price', 'Offence Count']]\n",
                "\n",
                "# Define the years of interest\n",
                "years_of_interest = range(2014, 2024)\n",
                "\n",
                "# Filter suburbs that have all the years of interest\n",
                "suburbs_with_complete_data = (\n",
                "    required_data\n",
                "    .groupby('Suburb/Town Name')\n",
                "    .filter(lambda x: set(years_of_interest).issubset(set(x['Year'])))\n",
                ")\n",
                "\n",
                "offence_and_housePrice_by_suburb = pd.DataFrame()\n",
                "\n",
                "# Find all years.\n",
                "years = suburbs_with_complete_data['Year'].unique()\n",
                "\n",
                "for year in years:\n",
                "\n",
                "    offences_by_year = suburbs_with_complete_data[suburbs_with_complete_data['Year'] == year]\n",
                "\n",
                "    grouped_data = offences_by_year.groupby('Suburb/Town Name').apply(lambda x: pd.Series({\n",
                "        'Year': x['Year'].iloc[0],\n",
                "        'Local Government Area': x['Local Government Area'].iloc[0],\n",
                "        'House Price': x['House Price'].iloc[0],\n",
                "        'Offence Count': x['Offence Count'].sum()\n",
                "    }),include_groups=False).reset_index()\n",
                "\n",
                "    offence_and_housePrice_by_suburb = pd.concat([offence_and_housePrice_by_suburb, grouped_data],ignore_index=True)\n",
                "\n",
                "# Find the LGA average house price and total number of crimes.\n",
                "offence_and_housePrice_by_LGA = offence_and_housePrice_by_suburb.groupby(['Local Government Area', 'Year']).apply(lambda x: pd.Series({\n",
                "    'House Price': x['House Price'].mean(),\n",
                "    'Offence Count': x['Offence Count'].sum()\n",
                "}),include_groups=False).reset_index()\n",
                "\n",
                "# New ways to store house prices and crime in suburbs\n",
                "offence_and_housePrice_by_suburb = suburbs_with_complete_data.groupby(['Suburb/Town Name', 'Year']).apply(lambda x: pd.Series({\n",
                "    'House Price': x['House Price'].mean(),\n",
                "    'Offence Count': x['Offence Count'].sum()\n",
                "}),include_groups=False).reset_index()\n"
            ]
        },
        {
            "cell_type": "markdown",
            "metadata": {},
            "source": [
                "### 2: group by Police Region"
            ]
        },
        {
            "cell_type": "code",
            "execution_count": 63,
            "metadata": {},
            "outputs": [],
            "source": [
                "\n",
                "# Load the data sets again\n",
                "offences_data_region=pd.read_csv('cleaned_offences_by_police_region.csv')\n",
                "offences_data_region = offences_data_region[['Police Region','Local Government Area']].drop_duplicates()\n",
                "# offences_data_region.to_csv('offences_data_region.csv', index=False)\n",
                "offences_data_region['Local Government Area'] = offences_data_region['Local Government Area'].str.strip()\n",
                "offence_and_housePrice_by_LGA['Police Region'] = None\n",
                "\n",
                "# Find the police region corresponding to the LGA data\n",
                "for index, row in offence_and_housePrice_by_LGA.iterrows():\n",
                "    lga = row['Local Government Area']\n",
                "\n",
                "    police_region = offences_data_region.loc[offences_data_region['Local Government Area'] == lga, 'Police Region']\n",
                "    if not police_region.empty:\n",
                "        offence_and_housePrice_by_LGA.loc[index, 'Police Region'] = police_region.iloc[0]\n",
                "\n",
                "\n",
                "offences_data_region = offence_and_housePrice_by_LGA.groupby(['Police Region', 'Year']).apply(lambda x: pd.Series({\n",
                "    'House Price': x['House Price'].mean(),\n",
                "    'Offence Count': x['Offence Count'].sum()\n",
                "}),include_groups=False).reset_index()\n",
                "\n",
                "# drop the Police Region columns\n",
                "offence_and_housePrice_by_LGA.drop(columns=['Police Region'], inplace=True)\n"
            ]
        },
        {
            "cell_type": "markdown",
            "metadata": {},
            "source": [
                "### 3: Save files in three different category ways"
            ]
        },
        {
            "cell_type": "code",
            "execution_count": 64,
            "metadata": {},
            "outputs": [],
            "source": [
                "offence_and_housePrice_by_suburb.to_csv('offence_and_housePrice_by_suburb.csv', index=False)\n",
                "offence_and_housePrice_by_LGA.to_csv('offence_and_housePrice_by_LGA.csv', index=False)\n",
                "offences_data_region.to_csv('offence_and_housePrice_by_police_region.csv', index=False)"
            ]
        },
        {
            "cell_type": "markdown",
            "metadata": {},
            "source": [
                "# join house-by-suburb file with LGA Offences file"
            ]
        },
        {
            "attachments": {},
            "cell_type": "markdown",
            "metadata": {},
            "source": [
                "\n",
                "### 1: Split LGA Offences file by year and find the total Offence Count for each region\n"
            ]
        },
        {
            "cell_type": "code",
            "execution_count": 65,
            "metadata": {},
            "outputs": [],
            "source": [
                "# Find all years.\n",
                "years = offences03['Year'].unique()\n",
                "years = np.flip(years)\n",
                "\n",
                "matched_house_prices_with_offences = matched_median_house_prices.copy()\n",
                "\n",
                "for year in years:\n",
                "    offences_by_year = matched_offences[matched_offences['Year'] == year]\n",
                "    \n",
                "    # Group and sum Offence counts by Suburb/Town Name\n",
                "    offence_count_by_suburb = offences_by_year.groupby('Suburb/Town Name')['Offence Count'].sum().reset_index()\n",
                "    offence_count_by_suburb.rename(columns={'Offence Count': f'{year} offence count'}, inplace=True)\n",
                "\n",
                "    # left join, keeping all matched_house_prices_with_offences data\n",
                "    matched_house_prices_with_offences = pd.merge(\n",
                "        matched_house_prices_with_offences,\n",
                "        offence_count_by_suburb,\n",
                "        left_on='Locality',\n",
                "        right_on='Suburb/Town Name',\n",
                "        how='left'  \n",
                "    )\n",
                "\n",
                "    # Deletes the duplicate 'Suburb/Town Name' column\n",
                "    matched_house_prices_with_offences.drop(columns=['Suburb/Town Name'], inplace=True)\n"
            ]
        },
        {
            "cell_type": "markdown",
            "metadata": {},
            "source": [
                "### 2: Save the dataset as matched_house_prices_with_offences"
            ]
        },
        {
            "cell_type": "code",
            "execution_count": 66,
            "metadata": {},
            "outputs": [],
            "source": [
                "matched_house_prices_with_offences.to_csv('matched_house_prices_with_offences.csv', index=False)"
            ]
        },
        {
            "cell_type": "markdown",
            "metadata": {},
            "source": [
                "# Encode offences with house price"
            ]
        },
        {
            "cell_type": "code",
            "execution_count": 46,
            "metadata": {},
            "outputs": [],
            "source": [
                "import pandas as pd\n",
                "from sklearn.preprocessing import OrdinalEncoder\n",
                "\n",
                "offence_with_house=pd.read_csv('matched_offences_with_house_price.csv')\n",
                "# encoding data\n",
                "X_df = OrdinalEncoder().fit_transform(offence_with_house[['Year','Year ending','Local Government Area','Postcode','Suburb/Town Name','Offence Division','Offence Subdivision','Offence Subgroup']])\n",
                "X_df = pd.DataFrame(X_df, columns=['Year', 'Year ending', 'Local Government Area', 'Postcode', 'Suburb/Town Name', 'Offence Division', 'Offence Subdivision', 'Offence Subgroup'])\n",
                "\n",
                "offence_with_house_selected = offence_with_house[['Offence Count', 'House Price']]\n",
                "\n",
                "merged_df = pd.concat([X_df, offence_with_house_selected], axis=1)\n",
                "\n",
                "merged_df.to_csv('encode_offence_with_house_price.csv', index=False)"
            ]
        },
        {
            "cell_type": "markdown",
            "metadata": {},
            "source": [
                "# new processing: add change percentage in offence_and_housePrice_by_suburb.csv"
            ]
        },
        {
            "cell_type": "code",
            "execution_count": 49,
            "metadata": {},
            "outputs": [],
            "source": [
                "import pandas as pd\n",
                "\n",
                "# load the data sets\n",
                "file_path = 'offence_and_housePrice_by_suburb.csv'\n",
                "offence_and_housePrice_by_suburb = pd.read_csv(file_path)\n",
                "\n",
                "# Initialize a list to store the change percentages for each suburb\n",
                "change_percentages = []\n",
                "\n",
                "grouped_offence_and_housePrice_by_suburb = offence_and_housePrice_by_suburb.groupby('Suburb/Town Name')\n",
                "\n",
                "for suburb, group in grouped_offence_and_housePrice_by_suburb:\n",
                "\n",
                "    # group data in the minimum and maximum years\n",
                "    min_year = group['Year'].min()\n",
                "    max_year = group['Year'].max()\n",
                "    data_min_year = group[group['Year'] == min_year]\n",
                "    data_max_year = group[group['Year'] == max_year]\n",
                "\n",
                "    # Extract house price and offence count for both minimum and maximum years\n",
                "    house_price_min = data_min_year.iloc[0]['House Price']\n",
                "    house_price_max = data_max_year.iloc[0]['House Price']\n",
                "    offence_count_min = data_min_year.iloc[0]['Offence Count']\n",
                "    offence_count_max = data_max_year.iloc[0]['Offence Count']\n",
                "\n",
                "    # Calculate the percentage change for house price and offence count\n",
                "    house_price_change = round((house_price_max - house_price_min) / house_price_min,4)\n",
                "    offence_count_change = round((offence_count_max - offence_count_min) / offence_count_min,4)\n",
                "    change_percentage = [suburb, 'change percentage', house_price_change, offence_count_change]\n",
                "    change_percentages.append(change_percentage)\n",
                "\n",
                "# Create a DataFrame from the change percentages, concatenate it with the original DataFrame, and sort by 'Suburb/Town Name' and 'Year'\n",
                "change_percentages = pd.DataFrame(change_percentages, columns=['Suburb/Town Name', 'Year', 'House Price', 'Offence Count'])\n",
                "change_percentages.drop(columns=['Year'], inplace=True)\n",
                "change_percentages.to_csv('change_percentages.csv',index=False)"
            ]
        },
        {
            "cell_type": "markdown",
            "metadata": {},
            "source": [
                "# ignore years for House price and Offences count"
            ]
        },
        {
            "cell_type": "markdown",
            "metadata": {},
            "source": [
                "### average suburb"
            ]
        },
        {
            "cell_type": "code",
            "execution_count": 1,
            "metadata": {},
            "outputs": [],
            "source": [
                "import pandas as pd\n",
                "import matplotlib.pyplot as plt\n",
                "\n",
                "file_path = 'offence_and_housePrice_by_suburb.csv'\n",
                "offence_and_housePrice_by_suburb = pd.read_csv(file_path)\n",
                "average_suburb = offence_and_housePrice_by_suburb.groupby('Suburb/Town Name')[['House Price', 'Offence Count']].mean().reset_index()\n",
                "average_suburb.to_csv('average_suburb.csv',index=False)"
            ]
        },
        {
            "cell_type": "markdown",
            "metadata": {},
            "source": [
                "### average LGA"
            ]
        },
        {
            "cell_type": "code",
            "execution_count": 2,
            "metadata": {},
            "outputs": [],
            "source": [
                "import pandas as pd\n",
                "\n",
                "file_path = 'offence_and_housePrice_by_LGA.csv'\n",
                "offence_and_housePrice_by_LGA = pd.read_csv(file_path)\n",
                "average_LGA = offence_and_housePrice_by_LGA.groupby('Local Government Area')[['House Price', 'Offence Count']].mean().reset_index()\n",
                "average_LGA.to_csv('average_LGA.csv',index=False)"
            ]
        },
        {
            "cell_type": "markdown",
            "metadata": {},
            "source": [
                "### average Police region"
            ]
        },
        {
            "cell_type": "code",
            "execution_count": 3,
            "metadata": {},
            "outputs": [],
            "source": [
                "import pandas as pd\n",
                "\n",
                "file_path = 'offence_and_housePrice_by_police_region.csv'\n",
                "offence_and_housePrice_by_police_region = pd.read_csv(file_path)\n",
                "average_police_region = offence_and_housePrice_by_police_region.groupby('Police Region')[['House Price', 'Offence Count']].mean().reset_index()\n",
                "average_police_region.to_csv('average_police_region.csv',index=False)"
            ]
        }
    ],
    "metadata": {
        "kernelspec": {
            "display_name": "Python 3",
            "language": "python",
            "name": "python3"
        },
        "language_info": {
            "codemirror_mode": {
                "name": "ipython",
                "version": 3
            },
            "file_extension": ".py",
            "mimetype": "text/x-python",
            "name": "python",
            "nbconvert_exporter": "python",
            "pygments_lexer": "ipython3",
            "version": "3.11.2"
        }
    },
    "nbformat": 4,
    "nbformat_minor": 4
}
